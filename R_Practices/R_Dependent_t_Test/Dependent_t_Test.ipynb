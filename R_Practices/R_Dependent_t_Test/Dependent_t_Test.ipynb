{
 "cells":[
  {
   "cell_type":"markdown",
   "source":[
    "### The time it takes for a computer program to do a certain task before and after an improvement in the program code is given below. Find the 95% confidence interval for the difference between the average running time of the program before and after the improvement and test whether the improvement in the program code worked."
   ],
   "attachments":{
    
   },
   "metadata":{
    "datalore":{
     "node_id":"wjgV4BwUP7dOS05juaZ8FH",
     "type":"MD",
     "hide_input_from_viewers":true,
     "hide_output_from_viewers":true
    }
   }
  },
  {
   "cell_type":"code",
   "source":[
    "library(readxl)\n",
    "library(tidyverse)"
   ],
   "execution_count":6,
   "outputs":[
    
   ],
   "metadata":{
    "datalore":{
     "node_id":"Le5GCShgdWHAKOaATQE26o",
     "type":"CODE",
     "hide_input_from_viewers":true,
     "hide_output_from_viewers":true
    }
   }
  },
  {
   "cell_type":"code",
   "source":[
    "df <- read_excel(\"\/data\/notebook_files\/Software_Data.xlsx\")"
   ],
   "execution_count":2,
   "outputs":[
    
   ],
   "metadata":{
    "datalore":{
     "node_id":"cD2lNdsjKIExpnFMxdZZnx",
     "type":"CODE",
     "hide_input_from_viewers":true,
     "hide_output_from_viewers":true
    }
   }
  },
  {
   "cell_type":"code",
   "source":[
    "head(df)"
   ],
   "execution_count":4,
   "outputs":[
    {
     "data":{
      "text\/html":[
       "<table class=\"dataframe\">\n",
       "<caption>A tibble: 6 × 2<\/caption>\n",
       "<thead>\n",
       "\t<tr><th scope=col>Before<\/th><th scope=col>After<\/th><\/tr>\n",
       "\t<tr><th scope=col>&lt;chr&gt;<\/th><th scope=col>&lt;chr&gt;<\/th><\/tr>\n",
       "<\/thead>\n",
       "<tbody>\n",
       "\t<tr><td>26.2<\/td><td>25.0<\/td><\/tr>\n",
       "\t<tr><td>29.3<\/td><td>28.2<\/td><\/tr>\n",
       "\t<tr><td>30.2<\/td><td>28.2<\/td><\/tr>\n",
       "\t<tr><td>32.1<\/td><td>31.8<\/td><\/tr>\n",
       "\t<tr><td>24.0<\/td><td>24.0<\/td><\/tr>\n",
       "\t<tr><td>32.0<\/td><td>31.0<\/td><\/tr>\n",
       "<\/tbody>\n",
       "<\/table>\n"
      ]
     },
     "metadata":{
      
     },
     "output_type":"display_data"
    }
   ],
   "metadata":{
    "datalore":{
     "node_id":"KBMWw511LL7SvUsy6tq0le",
     "type":"CODE",
     "hide_input_from_viewers":true,
     "hide_output_from_viewers":true
    }
   }
  },
  {
   "cell_type":"code",
   "source":[
    "glimpse(df)"
   ],
   "execution_count":7,
   "outputs":[
    {
     "name":"stdout",
     "text":[
      "Rows: 8\n",
      "Columns: 2\n",
      "$ Before \u001b[3m\u001b[90m<chr>\u001b[39m\u001b[23m \"26.2\", \"29.3\", \"30.2\", \"32.1\", \"24.0\", \"32.0\", \"27.6\", \"26.5\"\n",
      "$ After  \u001b[3m\u001b[90m<chr>\u001b[39m\u001b[23m \"25.0\", \"28.2\", \"28.2\", \"31.8\", \"24.0\", \"31.0\", \"26.5\", \"25.9\"\n"
     ],
     "output_type":"stream"
    }
   ],
   "metadata":{
    "datalore":{
     "node_id":"jXu1ZjpCLc7daliiO6XnW9",
     "type":"CODE",
     "hide_input_from_viewers":true,
     "hide_output_from_viewers":true
    }
   }
  },
  {
   "cell_type":"code",
   "source":[
    "df$Before <- as.numeric(df$Before)\n",
    "df$After <- as.numeric(df$After)\n",
    "df$D <- df$Before - df$After\n",
    "glimpse(df)"
   ],
   "execution_count":13,
   "outputs":[
    {
     "name":"stdout",
     "text":[
      "Rows: 8\n",
      "Columns: 3\n",
      "$ Before \u001b[3m\u001b[90m<dbl>\u001b[39m\u001b[23m 26.2, 29.3, 30.2, 32.1, 24.0, 32.0, 27.6, 26.5\n",
      "$ After  \u001b[3m\u001b[90m<dbl>\u001b[39m\u001b[23m 25.0, 28.2, 28.2, 31.8, 24.0, 31.0, 26.5, 25.9\n",
      "$ D      \u001b[3m\u001b[90m<dbl>\u001b[39m\u001b[23m 1.2, 1.1, 2.0, 0.3, 0.0, 1.0, 1.1, 0.6\n"
     ],
     "output_type":"stream"
    }
   ],
   "metadata":{
    "datalore":{
     "node_id":"CNmVXse7DbuIWMGbUy1x87",
     "type":"CODE",
     "hide_input_from_viewers":true,
     "hide_output_from_viewers":true
    }
   }
  },
  {
   "cell_type":"markdown",
   "source":[
    "#### Normality Analysis\n",
    "\n",
    "                    𝐻0: There is no difference between the distribution of the data and the normal distribution.\n",
    "\n",
    "                    𝐻𝑠: There is a difference between the distribution of the data and the normal distribution."
   ],
   "attachments":{
    
   },
   "metadata":{
    "datalore":{
     "node_id":"xcrFWx4iuE2PaAN49W11Yi",
     "type":"MD",
     "hide_input_from_viewers":true,
     "hide_output_from_viewers":true
    }
   }
  },
  {
   "cell_type":"code",
   "source":[
    "shapiro.test(df$D)"
   ],
   "execution_count":15,
   "outputs":[
    {
     "data":{
      "text\/plain":[
       "\n",
       "\tShapiro-Wilk normality test\n",
       "\n",
       "data:  df$D\n",
       "W = 0.95205, p-value = 0.7318\n"
      ]
     },
     "metadata":{
      
     },
     "output_type":"display_data"
    }
   ],
   "metadata":{
    "datalore":{
     "node_id":"IzTOWt6scbPJHTbiEm98Jk",
     "type":"CODE",
     "hide_input_from_viewers":true,
     "hide_output_from_viewers":true
    }
   }
  },
  {
   "cell_type":"markdown",
   "source":[
    "(p=0.7318) > 0.05, 𝐻0 cannot be rejected. The distribution of the data on the difference between the time it takes the program to do the job before and after the improvement shows a normal distribution."
   ],
   "attachments":{
    
   },
   "metadata":{
    "datalore":{
     "node_id":"NScApxD2grdnjJBOgQVD6P",
     "type":"MD",
     "hide_input_from_viewers":true,
     "hide_output_from_viewers":true
    }
   }
  },
  {
   "cell_type":"markdown",
   "source":[
    "#### Dependent t-test\n",
    "𝑛<30, a t-test is used to test the difference between two dependent population means."
   ],
   "attachments":{
    
   },
   "metadata":{
    "datalore":{
     "node_id":"Q94R1ehHezagD5CwB5NRJx",
     "type":"MD",
     "hide_input_from_viewers":true,
     "hide_output_from_viewers":true
    }
   }
  },
  {
   "cell_type":"code",
   "source":[
    "t.test(df$D,mu=0, alternative=\"two.sided\", conf.level=0.95)"
   ],
   "execution_count":16,
   "outputs":[
    {
     "data":{
      "text\/plain":[
       "\n",
       "\tOne Sample t-test\n",
       "\n",
       "data:  df$D\n",
       "t = 4.1957, df = 7, p-value = 0.004057\n",
       "alternative hypothesis: true mean is not equal to 0\n",
       "95 percent confidence interval:\n",
       " 0.3982331 1.4267669\n",
       "sample estimates:\n",
       "mean of x \n",
       "   0.9125 \n"
      ]
     },
     "metadata":{
      
     },
     "output_type":"display_data"
    }
   ],
   "metadata":{
    "datalore":{
     "node_id":"1f1xMyKpahYaUhYwuTSygE",
     "type":"CODE",
     "hide_input_from_viewers":true,
     "hide_output_from_viewers":true
    }
   }
  },
  {
   "cell_type":"markdown",
   "source":[
    "- (p=0.004) < 0.05 -> p value is less than the significance value (𝛼=0.05)\n",
    "  \n",
    "- |t|=4.1957 test statistic 𝑡(𝛼\/2,𝑛-1) = 𝑡(0.025,7) = 2.365 is greater than the table value.\n",
    "\n",
    "- (0.398, 1.426) confidence interval does not include 0."
   ],
   "attachments":{
    
   },
   "metadata":{
    "datalore":{
     "node_id":"TFj4z3Q5ydW4JrONGIPD0i",
     "type":"MD",
     "hide_input_from_viewers":true,
     "hide_output_from_viewers":true
    }
   }
  },
  {
   "cell_type":"markdown",
   "source":[
    "#### Conclusion\n",
    "\n",
    "According to the t-test result, the hypothesis 𝐻0 is rejected. It can be said that there is a difference at 5% significance level between the duration of doing the job before and after making improvements to the program. The improvement worked and the time to do the job of the program after the improvement was made was shortened."
   ],
   "attachments":{
    
   },
   "metadata":{
    "datalore":{
     "node_id":"gw79p9VWb0aBcWZrSyPPSz",
     "type":"MD",
     "hide_input_from_viewers":true,
     "hide_output_from_viewers":true
    }
   }
  },
  {
   "cell_type":"code",
   "source":[
    
   ],
   "execution_count":null,
   "outputs":[
    
   ],
   "metadata":{
    "datalore":{
     "node_id":"pTaiC18B4ZNuUp3J6h7FzC",
     "type":"CODE",
     "hide_input_from_viewers":true,
     "hide_output_from_viewers":true
    }
   }
  }
 ],
 "metadata":{
  "kernelspec":{
   "display_name":"R",
   "language":"r",
   "name":"ir"
  },
  "datalore":{
   "computation_mode":"JUPYTER",
   "package_manager":"conda",
   "base_environment":"minimal",
   "packages":[
    
   ],
   "report_row_ids":[
    
   ],
   "version":3
  }
 },
 "nbformat":4,
 "nbformat_minor":4
}