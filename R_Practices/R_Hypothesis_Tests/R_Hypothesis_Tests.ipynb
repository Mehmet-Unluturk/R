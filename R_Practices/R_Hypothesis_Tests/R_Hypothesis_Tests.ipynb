{
 "cells":[
  {
   "cell_type":"markdown",
   "source":[
    "### 1. It is claimed that the amount of cholesterol in the blood exceeds 180 in people who do sports. Cholesterol levels of randomly selected people who do sports are given. Test this claim at the 5% significance level."
   ],
   "attachments":{
    
   },
   "metadata":{
    "datalore":{
     "node_id":"3SvASG1t68dNvsomJ7GX3U",
     "type":"MD",
     "hide_input_from_viewers":true,
     "hide_output_from_viewers":true
    }
   }
  },
  {
   "cell_type":"code",
   "source":[
    "library(readxl)\n",
    "library(BSDA)"
   ],
   "execution_count":5,
   "outputs":[
    
   ],
   "metadata":{
    "datalore":{
     "node_id":"Izr24QlRqSVxnbf4KUqeUi",
     "type":"CODE",
     "hide_input_from_viewers":true,
     "hide_output_from_viewers":true
    }
   }
  },
  {
   "cell_type":"code",
   "source":[
    "df <- read_excel(\"\/data\/notebook_files\/Cholesterol_Data.xlsx\")"
   ],
   "execution_count":2,
   "outputs":[
    
   ],
   "metadata":{
    "datalore":{
     "node_id":"FBXLAenPG1ZSXoWCKTeEfU",
     "type":"CODE",
     "hide_input_from_viewers":true,
     "hide_output_from_viewers":true
    }
   }
  },
  {
   "cell_type":"code",
   "source":[
    "head(df)"
   ],
   "execution_count":3,
   "outputs":[
    {
     "data":{
      "text\/html":[
       "<table class=\"dataframe\">\n",
       "<caption>A tibble: 6 × 1<\/caption>\n",
       "<thead>\n",
       "\t<tr><th scope=col>cholesterol<\/th><\/tr>\n",
       "\t<tr><th scope=col>&lt;dbl&gt;<\/th><\/tr>\n",
       "<\/thead>\n",
       "<tbody>\n",
       "\t<tr><td>201<\/td><\/tr>\n",
       "\t<tr><td>188<\/td><\/tr>\n",
       "\t<tr><td>167<\/td><\/tr>\n",
       "\t<tr><td>155<\/td><\/tr>\n",
       "\t<tr><td>234<\/td><\/tr>\n",
       "\t<tr><td>170<\/td><\/tr>\n",
       "<\/tbody>\n",
       "<\/table>\n"
      ]
     },
     "metadata":{
      
     },
     "output_type":"display_data"
    }
   ],
   "metadata":{
    "datalore":{
     "node_id":"EZQCvwIKOgxweu0DkcKN7U",
     "type":"CODE",
     "hide_input_from_viewers":true,
     "hide_output_from_viewers":true
    }
   }
  },
  {
   "cell_type":"markdown",
   "source":[
    "##### Hypothesis testing for the population mean of cholesterol amounts;\n",
    "The z-test (with sample variance) is used because the mass variance (𝜎2) is unknown and n>30.\n",
    "\n",
    "                                                        H0: µ=180\n",
    "                                                        \n",
    "                                                        H1: µ>180"
   ],
   "attachments":{
    
   },
   "metadata":{
    "datalore":{
     "node_id":"JRdyPUSSrELgKGchAn9KyI",
     "type":"MD",
     "hide_input_from_viewers":true,
     "hide_output_from_viewers":true
    }
   }
  },
  {
   "cell_type":"code",
   "source":[
    "z.test(df, mu=180, alternative=\"greater\", sigma.x=sqrt(var(df)))"
   ],
   "execution_count":6,
   "outputs":[
    {
     "data":{
      "text\/plain":[
       "\n",
       "\tOne-sample z-Test\n",
       "\n",
       "data:  df\n",
       "z = 1.6805, p-value = 0.04643\n",
       "alternative hypothesis: true mean is greater than 180\n",
       "95 percent confidence interval:\n",
       " 180.1525       NA\n",
       "sample estimates:\n",
       "mean of x \n",
       " 187.1905 \n"
      ]
     },
     "metadata":{
      
     },
     "output_type":"display_data"
    }
   ],
   "metadata":{
    "datalore":{
     "node_id":"po1MHgdob4R73xle9MgTF9",
     "type":"CODE",
     "hide_input_from_viewers":true,
     "hide_output_from_viewers":true
    }
   }
  },
  {
   "cell_type":"markdown",
   "source":[
    "### Conclusion:\n",
    "#### i) Z Test Statistic:\n",
    "H0 is rejected as Z=1.6805 > Z0.05 =1.645\n",
    "#### ii) p value\n",
    "H0 is rejected as p=0.04643 < α=0.05\n",
    "#### iii) Confidence interval\n",
    "Confidence Interval: P(180.1525<μ )=0.95\n",
    "\n",
    "H0 is rejected because the confidence interval does not include value 180.\n",
    "#### Interpretation:\n",
    "Since H0 is rejected at the 5% significance level, it can be concluded that the amount of cholesterol in blood It is not 180 (there is insufficient evidence that it is 180)."
   ],
   "attachments":{
    
   },
   "metadata":{
    "datalore":{
     "node_id":"oflaLWnjQIFt4LSfTffO80",
     "type":"MD",
     "hide_input_from_viewers":true,
     "hide_output_from_viewers":true
    }
   }
  },
  {
   "cell_type":"code",
   "source":[
    
   ],
   "execution_count":null,
   "outputs":[
    
   ],
   "metadata":{
    "datalore":{
     "node_id":"BDAZ2CrmgQr3pHrmEc9ArY",
     "type":"CODE",
     "hide_input_from_viewers":true,
     "hide_output_from_viewers":true
    }
   }
  }
 ],
 "metadata":{
  "kernelspec":{
   "display_name":"R",
   "language":"r",
   "name":"ir"
  },
  "datalore":{
   "computation_mode":"JUPYTER",
   "package_manager":"conda",
   "base_environment":"minimal",
   "packages":[
    {
     "name":"BSDA",
     "source":"CRAN"
    }
   ],
   "report_row_ids":[
    
   ],
   "version":3
  }
 },
 "nbformat":4,
 "nbformat_minor":4
}