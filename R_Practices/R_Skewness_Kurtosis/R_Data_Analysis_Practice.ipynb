{
 "cells":[
  {
   "cell_type":"markdown",
   "source":[
    "# R Analysis Practice"
   ],
   "attachments":{
    
   },
   "metadata":{
    "datalore":{
     "node_id":"pNjd9dhMe77LCAtlla4Fkv",
     "type":"MD",
     "hide_input_from_viewers":true,
     "hide_output_from_viewers":true
    }
   }
  },
  {
   "cell_type":"markdown",
   "source":[
    "### Clinical and laboratory measurements are performed on patients hospitalized in normal wards and intensive care wards in a hospital. It is being investigated whether these measurements differ in patients hospitalized in different wards. It is requested to analyze the kurtosis and skewness coefficient of the data."
   ],
   "attachments":{
    
   },
   "metadata":{
    "datalore":{
     "node_id":"AmemN6vqgQAQwUkMFIRosH",
     "type":"MD",
     "hide_input_from_viewers":true,
     "hide_output_from_viewers":true
    }
   }
  },
  {
   "cell_type":"code",
   "source":[
    "library(readxl)\n",
    "library(tidyverse)\n",
    "library(EnvStats)"
   ],
   "execution_count":2,
   "outputs":[
    
   ],
   "metadata":{
    "datalore":{
     "node_id":"GrKu8RTALA8hEafasLbLnE",
     "type":"CODE",
     "hide_input_from_viewers":true,
     "hide_output_from_viewers":true
    }
   }
  },
  {
   "cell_type":"code",
   "source":[
    "df <- read_excel(\"\/data\/notebook_files\/Hospital_Data.xlsx\")"
   ],
   "execution_count":3,
   "outputs":[
    
   ],
   "metadata":{
    "datalore":{
     "node_id":"Lp0N5DnujEnlwH6dmHFq00",
     "type":"CODE",
     "hide_input_from_viewers":true,
     "hide_output_from_viewers":true
    }
   }
  },
  {
   "cell_type":"code",
   "source":[
    "head(df)"
   ],
   "execution_count":4,
   "outputs":[
    {
     "data":{
      "text\/html":[
       "<table class=\"dataframe\">\n",
       "<caption>A tibble: 6 × 2<\/caption>\n",
       "<thead>\n",
       "\t<tr><th scope=col>Normal_Wards<\/th><th scope=col>Intensive_Care_Wards<\/th><\/tr>\n",
       "\t<tr><th scope=col>&lt;dbl&gt;<\/th><th scope=col>&lt;dbl&gt;<\/th><\/tr>\n",
       "<\/thead>\n",
       "<tbody>\n",
       "\t<tr><td>152<\/td><td>217<\/td><\/tr>\n",
       "\t<tr><td>134<\/td><td>180<\/td><\/tr>\n",
       "\t<tr><td>143<\/td><td>153<\/td><\/tr>\n",
       "\t<tr><td>135<\/td><td>114<\/td><\/tr>\n",
       "\t<tr><td>208<\/td><td>160<\/td><\/tr>\n",
       "\t<tr><td>114<\/td><td>186<\/td><\/tr>\n",
       "<\/tbody>\n",
       "<\/table>\n"
      ]
     },
     "metadata":{
      
     },
     "output_type":"display_data"
    }
   ],
   "metadata":{
    "datalore":{
     "node_id":"U8g3Yzom4s8qbTALo0OwKP",
     "type":"CODE",
     "hide_input_from_viewers":true,
     "hide_output_from_viewers":true
    }
   }
  },
  {
   "cell_type":"code",
   "source":[
    "glimpse(df)"
   ],
   "execution_count":5,
   "outputs":[
    {
     "name":"stdout",
     "text":[
      "Rows: 40\n",
      "Columns: 2\n",
      "$ Normal_Wards         \u001b[3m\u001b[90m<dbl>\u001b[39m\u001b[23m 152, 134, 143, 135, 208, 114, 165, 226, 107, 223,…\n",
      "$ Intensive_Care_Wards \u001b[3m\u001b[90m<dbl>\u001b[39m\u001b[23m 217, 180, 153, 114, 160, 186, 128, 180, 123, 109,…\n"
     ],
     "output_type":"stream"
    }
   ],
   "metadata":{
    "datalore":{
     "node_id":"AJOpb6RHlDKuM1XKeT9bXE",
     "type":"CODE",
     "hide_input_from_viewers":true,
     "hide_output_from_viewers":true
    }
   }
  },
  {
   "cell_type":"code",
   "source":[
    "skewness_normal <- skewness(df$Normal_Wards)\n",
    "skewness_normal"
   ],
   "execution_count":41,
   "outputs":[
    {
     "data":{
      "text\/html":[
       "1.23460181612816"
      ]
     },
     "metadata":{
      
     },
     "output_type":"display_data"
    }
   ],
   "metadata":{
    "datalore":{
     "node_id":"0WdKjCdoTN657D0E9PR52N",
     "type":"CODE",
     "hide_input_from_viewers":true,
     "hide_output_from_viewers":true
    }
   }
  },
  {
   "cell_type":"code",
   "source":[
    "kurtosis_normal <- kurtosis(df$Normal_Wards)\n",
    "kurtosis_normal"
   ],
   "execution_count":42,
   "outputs":[
    {
     "data":{
      "text\/html":[
       "1.32238215782059"
      ]
     },
     "metadata":{
      
     },
     "output_type":"display_data"
    }
   ],
   "metadata":{
    "datalore":{
     "node_id":"lyc5chJ2BMvVQ9YrtmPlnl",
     "type":"CODE",
     "hide_input_from_viewers":true,
     "hide_output_from_viewers":true
    }
   }
  },
  {
   "cell_type":"markdown",
   "source":[
    "The skewness coefficient for normal wards is 1.234 and the kurtosis coefficient is 1.322. Accordingly, it can be said that the skewness of the normal wards is in the positive direction (right-skewed) and the kurtosis is steeper than the normal distribution. It can be inferred that the distribution is significantly skewed"
   ],
   "attachments":{
    
   },
   "metadata":{
    "datalore":{
     "node_id":"lRkwB0vZbEmTqChgIk76lk",
     "type":"MD",
     "hide_input_from_viewers":true,
     "hide_output_from_viewers":true
    }
   }
  },
  {
   "cell_type":"code",
   "source":[
    "skewness_intensive <- skewness(df$Intensive_Care_Wards)\n",
    "skewness_intensive"
   ],
   "execution_count":43,
   "outputs":[
    {
     "data":{
      "text\/html":[
       "1.03481411563784"
      ]
     },
     "metadata":{
      
     },
     "output_type":"display_data"
    }
   ],
   "metadata":{
    "datalore":{
     "node_id":"WSgUQmljjf1h4irkFrBHH8",
     "type":"CODE",
     "hide_input_from_viewers":true,
     "hide_output_from_viewers":true
    }
   }
  },
  {
   "cell_type":"code",
   "source":[
    "kurtosis_intensive <- kurtosis(df$Intensive_Care_Wards)\n",
    "kurtosis_intensive"
   ],
   "execution_count":44,
   "outputs":[
    {
     "data":{
      "text\/html":[
       "0.678039863989537"
      ]
     },
     "metadata":{
      
     },
     "output_type":"display_data"
    }
   ],
   "metadata":{
    "datalore":{
     "node_id":"KzmN87klcK27zs6InbyuwA",
     "type":"CODE",
     "hide_input_from_viewers":true,
     "hide_output_from_viewers":true
    }
   }
  },
  {
   "cell_type":"markdown",
   "source":[
    "The skewness coefficient for the intensive care wards is 1.034 and the kurtosis coefficient is 0.678. Accordingly, it can be said that the skewness of the intensive care wards is in the positive direction (skewed to the right) and the kurtosis is flatter than the normal distribution."
   ],
   "attachments":{
    
   },
   "metadata":{
    "datalore":{
     "node_id":"jLx4rfTWkrEetHogSFUytL",
     "type":"MD",
     "hide_input_from_viewers":true,
     "hide_output_from_viewers":true
    }
   }
  },
  {
   "cell_type":"markdown",
   "source":[
    "#### Bowley and Pearson Asymmetry Measures;"
   ],
   "attachments":{
    
   },
   "metadata":{
    "datalore":{
     "node_id":"1oxtywRau0iNJAbKqTnsBj",
     "type":"MD",
     "hide_input_from_viewers":true,
     "hide_output_from_viewers":true
    }
   }
  },
  {
   "cell_type":"markdown",
   "source":[
    "##### Normal Wards"
   ],
   "attachments":{
    
   },
   "metadata":{
    "datalore":{
     "node_id":"ZtbNexTrV2emIa2swq4I8B",
     "type":"MD",
     "hide_input_from_viewers":true,
     "hide_output_from_viewers":true
    }
   }
  },
  {
   "cell_type":"code",
   "source":[
    "quantile(df$Normal_Wards)"
   ],
   "execution_count":10,
   "outputs":[
    {
     "data":{
      "text\/html":[
       "<style>\n",
       ".dl-inline {width: auto; margin:0; padding: 0}\n",
       ".dl-inline>dt, .dl-inline>dd {float: none; width: auto; display: inline-block}\n",
       ".dl-inline>dt::after {content: \":\\0020\"; padding-right: .5ex}\n",
       ".dl-inline>dt:not(:first-of-type) {padding-left: .5ex}\n",
       "<\/style><dl class=dl-inline><dt>0%<\/dt><dd>100<\/dd><dt>25%<\/dt><dd>122.75<\/dd><dt>50%<\/dt><dd>144<\/dd><dt>75%<\/dt><dd>187.25<\/dd><dt>100%<\/dt><dd>293<\/dd><\/dl>\n"
      ]
     },
     "metadata":{
      
     },
     "output_type":"display_data"
    }
   ],
   "metadata":{
    "datalore":{
     "node_id":"prqkPQHAO23MLMPruivKv4",
     "type":"CODE",
     "hide_input_from_viewers":true,
     "hide_output_from_viewers":true
    }
   }
  },
  {
   "cell_type":"code",
   "source":[
    "Q1_nor<- 122.75\n",
    "Q2_nor<- 144\n",
    "Q3_nor<- 187.25\n",
    "bow_nor <- (Q3_nor+Q1_nor-2*Q2_nor)\/(Q3_nor-Q1_nor)\n",
    "cat(\"Bowley Asymmetry Measure of Normal Wards:\",bow_nor)"
   ],
   "execution_count":21,
   "outputs":[
    {
     "name":"stdout",
     "text":[
      "Bowley Asymmetry Measure of Normal Wards: 0.3410853"
     ],
     "output_type":"stream"
    }
   ],
   "metadata":{
    "datalore":{
     "node_id":"9DG6jfozt3qtaTZhmxQSAG",
     "type":"CODE",
     "hide_input_from_viewers":true,
     "hide_output_from_viewers":true
    }
   }
  },
  {
   "cell_type":"markdown",
   "source":[
    "The Bowley Asymmetry Measure of normal wards is 0.341. Accordingly, since the value is positive, the distribution is skewed to the right."
   ],
   "attachments":{
    
   },
   "metadata":{
    "datalore":{
     "node_id":"VvuDRclLkpcUL7FYxqRd6l",
     "type":"MD",
     "hide_input_from_viewers":true,
     "hide_output_from_viewers":true
    }
   }
  },
  {
   "cell_type":"code",
   "source":[
    "mean_normal <- mean(df$Normal_Wards)\n",
    "median <- median(df$Normal_Wards)\n",
    "sd_normal <- sd(df$Normal_Wards)\n",
    "mode_df <- table(df$Normal_Wards)\n",
    "mode_normal <- as.numeric(names(mode_df)[which.max(mode_df)])\n",
    "pear_nor <- (mean_normal-mode_normal)\/sd_normal\n",
    "cat(\"Pearson Asymmetry Measure of Normal Wards:\",pear_nor)"
   ],
   "execution_count":35,
   "outputs":[
    {
     "name":"stdout",
     "text":[
      "Pearson Asymmetry Measure of Normal Wards: 1.058656"
     ],
     "output_type":"stream"
    }
   ],
   "metadata":{
    "datalore":{
     "node_id":"GQSOWjvzRSsrWscmOxLNZD",
     "type":"CODE",
     "hide_input_from_viewers":true,
     "hide_output_from_viewers":true
    }
   }
  },
  {
   "cell_type":"markdown",
   "source":[
    "Pearson Asymmetry Measure of normal wards is 1.058. Accordingly, as in the Bowley Measure, the distribution is skewed to the right as the value is positive. "
   ],
   "attachments":{
    
   },
   "metadata":{
    "datalore":{
     "node_id":"2lq6VTxnROk7RuyFgDD4Xb",
     "type":"MD",
     "hide_input_from_viewers":true,
     "hide_output_from_viewers":true
    }
   }
  },
  {
   "cell_type":"markdown",
   "source":[
    "##### Intensive_Care_Wards"
   ],
   "attachments":{
    
   },
   "metadata":{
    "datalore":{
     "node_id":"dZBhOBBL572G5QwskSxM3u",
     "type":"MD",
     "hide_input_from_viewers":true,
     "hide_output_from_viewers":true
    }
   }
  },
  {
   "cell_type":"code",
   "source":[
    "quantile(df$Intensive_Care_Wards)"
   ],
   "execution_count":36,
   "outputs":[
    {
     "data":{
      "text\/html":[
       "<style>\n",
       ".dl-inline {width: auto; margin:0; padding: 0}\n",
       ".dl-inline>dt, .dl-inline>dd {float: none; width: auto; display: inline-block}\n",
       ".dl-inline>dt::after {content: \":\\0020\"; padding-right: .5ex}\n",
       ".dl-inline>dt:not(:first-of-type) {padding-left: .5ex}\n",
       "<\/style><dl class=dl-inline><dt>0%<\/dt><dd>101<\/dd><dt>25%<\/dt><dd>118.75<\/dd><dt>50%<\/dt><dd>151<\/dd><dt>75%<\/dt><dd>186.5<\/dd><dt>100%<\/dt><dd>291<\/dd><\/dl>\n"
      ]
     },
     "metadata":{
      
     },
     "output_type":"display_data"
    }
   ],
   "metadata":{
    "datalore":{
     "node_id":"p9DYHaednXHQOD583wuqTF",
     "type":"CODE",
     "hide_input_from_viewers":true,
     "hide_output_from_viewers":true
    }
   }
  },
  {
   "cell_type":"code",
   "source":[
    "Q1_nor<- 118.75\n",
    "Q2_nor<- 151\n",
    "Q3_nor<- 186.5\n",
    "bow_nor <- (Q3_nor+Q1_nor-2*Q2_nor)\/(Q3_nor-Q1_nor)\n",
    "cat(\"Bowley Asymmetry Measure of Intensive Care Wards:\",bow_nor)"
   ],
   "execution_count":37,
   "outputs":[
    {
     "name":"stdout",
     "text":[
      "Bowley Asymmetry Measure of Intensive Care Wards: 0.04797048"
     ],
     "output_type":"stream"
    }
   ],
   "metadata":{
    "datalore":{
     "node_id":"yObabATtxH4ykFydFqL4p7",
     "type":"CODE",
     "hide_input_from_viewers":true,
     "hide_output_from_viewers":true
    }
   }
  },
  {
   "cell_type":"markdown",
   "source":[
    "The Bowley Asymmetry Measure of intensive care wards is 0.0479. Accordingly, since the value is positive, the distribution is skewed to the right"
   ],
   "attachments":{
    
   },
   "metadata":{
    "datalore":{
     "node_id":"FPxMubHPzesxSCmciniGFb",
     "type":"MD",
     "hide_input_from_viewers":true,
     "hide_output_from_viewers":true
    }
   }
  },
  {
   "cell_type":"code",
   "source":[
    "mean_normal <- mean(df$Intensive_Care_Wards)\n",
    "median <- median(df$Intensive_Care_Wards)\n",
    "sd_normal <- sd(df$Intensive_Care_Wards)\n",
    "mode_df <- table(df$Intensive_Care_Wards)\n",
    "mode_normal <- as.numeric(names(mode_df)[which.max(mode_df)])\n",
    "pear_nor <- (mean_normal-mode_normal)\/sd_normal\n",
    "cat(\"Pearson Asymmetry Measure of Intensive Care Wards:\",pear_nor)"
   ],
   "execution_count":38,
   "outputs":[
    {
     "name":"stdout",
     "text":[
      "Pearson Asymmetry Measure of Intensive Care Wards: 0.9098589"
     ],
     "output_type":"stream"
    }
   ],
   "metadata":{
    "datalore":{
     "node_id":"cf6yE3QrUSTfO0BBN3Qx0N",
     "type":"CODE",
     "hide_input_from_viewers":true,
     "hide_output_from_viewers":true
    }
   }
  },
  {
   "cell_type":"markdown",
   "source":[
    "Pearson Asymmetry Measure of normal wards is 0.909. Accordingly, as in the Bowley Measure, the distribution is skewed to the right as the value is positive."
   ],
   "attachments":{
    
   },
   "metadata":{
    "datalore":{
     "node_id":"BDHBftnitBcOnymqRqUgsK",
     "type":"MD",
     "hide_input_from_viewers":true,
     "hide_output_from_viewers":true
    }
   }
  },
  {
   "cell_type":"code",
   "source":[
    
   ],
   "execution_count":null,
   "outputs":[
    
   ],
   "metadata":{
    "datalore":{
     "node_id":"AOOWw57H8Mz3r7xdQ68nCe",
     "type":"CODE",
     "hide_input_from_viewers":true,
     "hide_output_from_viewers":true
    }
   }
  }
 ],
 "metadata":{
  "kernelspec":{
   "display_name":"R",
   "language":"r",
   "name":"ir"
  },
  "datalore":{
   "computation_mode":"JUPYTER",
   "package_manager":"conda",
   "base_environment":"minimal",
   "packages":[
    {
     "name":"EnvStats",
     "source":"CRAN"
    }
   ],
   "report_row_ids":[
    
   ],
   "version":3
  }
 },
 "nbformat":4,
 "nbformat_minor":4
}